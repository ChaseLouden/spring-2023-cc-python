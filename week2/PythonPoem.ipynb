{
 "cells": [
  {
   "cell_type": "code",
   "execution_count": null,
   "metadata": {},
   "outputs": [],
   "source": [
    "# 1) What is the output of the following code and why? \n",
    "\n",
    "# var1 = 1\n",
    "# var2 = 2\n",
    "# var3 = \"3\"\n",
    "\n",
    "# print(var1 + var2 + var3)\n",
    "\n",
    "# a) 6 \n",
    "# b) 33 \n",
    "# c) 3 + 3 \n",
    "# d) Error \n",
    "\n",
    "# d, because python doesn't add strings and integers together"
   ]
  },
  {
   "cell_type": "code",
   "execution_count": 20,
   "metadata": {},
   "outputs": [
    {
     "ename": "TypeError",
     "evalue": "unsupported operand type(s) for +: 'int' and 'str'",
     "output_type": "error",
     "traceback": [
      "\u001b[1;31m---------------------------------------------------------------------------\u001b[0m",
      "\u001b[1;31mTypeError\u001b[0m                                 Traceback (most recent call last)",
      "\u001b[1;32m~\\AppData\\Local\\Temp\\ipykernel_11360\\3840188422.py\u001b[0m in \u001b[0;36m<module>\u001b[1;34m\u001b[0m\n\u001b[0;32m      3\u001b[0m \u001b[0mvar3\u001b[0m \u001b[1;33m=\u001b[0m \u001b[1;34m\"3\"\u001b[0m\u001b[1;33m\u001b[0m\u001b[1;33m\u001b[0m\u001b[0m\n\u001b[0;32m      4\u001b[0m \u001b[1;33m\u001b[0m\u001b[0m\n\u001b[1;32m----> 5\u001b[1;33m \u001b[0mprint\u001b[0m\u001b[1;33m(\u001b[0m\u001b[0mvar1\u001b[0m \u001b[1;33m+\u001b[0m \u001b[0mvar2\u001b[0m \u001b[1;33m+\u001b[0m \u001b[0mvar3\u001b[0m\u001b[1;33m)\u001b[0m\u001b[1;33m\u001b[0m\u001b[1;33m\u001b[0m\u001b[0m\n\u001b[0m",
      "\u001b[1;31mTypeError\u001b[0m: unsupported operand type(s) for +: 'int' and 'str'"
     ]
    }
   ],
   "source": [
    "var1 = 1\n",
    "var2 = 2\n",
    "var3 = \"3\"\n",
    "\n",
    "print(var1 + var2 + var3)"
   ]
  },
  {
   "cell_type": "code",
   "execution_count": null,
   "metadata": {},
   "outputs": [],
   "source": [
    "# 2) What is the output of the following code? \n",
    "\n",
    "# str = \"pynative\"\n",
    "\n",
    "# print (str[1:3])\n",
    "\n",
    "# a) py\n",
    "# b) yn\n",
    "# c) pyn\n",
    "# d) yna\n",
    "\n",
    "#b, because the string become a list, and the letters correlate to the numbers, and arrays always starts \n",
    "# at zero."
   ]
  },
  {
   "cell_type": "code",
   "execution_count": 21,
   "metadata": {},
   "outputs": [
    {
     "name": "stdout",
     "output_type": "stream",
     "text": [
      "yn\n"
     ]
    }
   ],
   "source": [
    "str = \"pynative\"\n",
    "\n",
    "print (str[1:3])"
   ]
  },
  {
   "cell_type": "code",
   "execution_count": null,
   "metadata": {},
   "outputs": [],
   "source": [
    "# 3) What is the output of the following code? \n",
    "\n",
    "# var= \"James Bond\"\n",
    "# print(var[2::-1])\n",
    "\n",
    "# a) Jam\n",
    "# b) dno\n",
    "# c) maJ\n",
    "# d) dnoB semaJ\n",
    "\n",
    "# the answer is c"
   ]
  },
  {
   "cell_type": "code",
   "execution_count": 23,
   "metadata": {},
   "outputs": [
    {
     "name": "stdout",
     "output_type": "stream",
     "text": [
      "mJ\n"
     ]
    }
   ],
   "source": [
    "var= \"James Bond\"\n",
    "print(var[2::-1])"
   ]
  },
  {
   "cell_type": "code",
   "execution_count": null,
   "metadata": {},
   "outputs": [],
   "source": [
    "# 4) What is the output of the following code? \n",
    "\n",
    "# var = \"James\" * 2  * 3\n",
    "# print(var)\n",
    "\n",
    "# a) JamesJamesJamesJamesJamesJames\n",
    "# b) JamesJamesJamesJamesJames\n",
    "# c) Error: invalid syntax\n",
    "\n",
    "# the answer is a"
   ]
  },
  {
   "cell_type": "code",
   "execution_count": 25,
   "metadata": {},
   "outputs": [
    {
     "name": "stdout",
     "output_type": "stream",
     "text": [
      "JamesJamesJamesJamesJamesJames\n"
     ]
    }
   ],
   "source": [
    "var = \"James\" * 2  * 3\n",
    "print(var)"
   ]
  },
  {
   "cell_type": "code",
   "execution_count": 16,
   "metadata": {},
   "outputs": [],
   "source": [
    "# 5) Get rid of the non fruit item: \n",
    "\n",
    "# sweets = ['apple', 'bananas', 'cantelopes', 'donut']\n",
    "\n",
    "my_list = ['apple', 'bananas', 'cantelopes', 'donut']\n",
    "\n",
    "#my_list = ['apple', 'bananas', 'cantelopes', 'donut']\n",
    "\n",
    "#my_list.remove('donut')\n",
    "\n",
    "#print(my_list)\n"
   ]
  },
  {
   "cell_type": "code",
   "execution_count": 27,
   "metadata": {},
   "outputs": [
    {
     "name": "stdout",
     "output_type": "stream",
     "text": [
      "['apple', 'bananas', 'cantelopes']\n"
     ]
    }
   ],
   "source": [
    "my_list = ['apple', 'bananas', 'cantelopes', 'donut']\n",
    "\n",
    "my_list.remove('donut')\n",
    "\n",
    "print(my_list)"
   ]
  },
  {
   "cell_type": "code",
   "execution_count": 19,
   "metadata": {},
   "outputs": [
    {
     "ename": "IndentationError",
     "evalue": "unexpected indent (1766435392.py, line 7)",
     "output_type": "error",
     "traceback": [
      "\u001b[1;36m  File \u001b[1;32m\"C:\\Users\\Chase\\AppData\\Local\\Temp\\ipykernel_11360\\1766435392.py\"\u001b[1;36m, line \u001b[1;32m7\u001b[0m\n\u001b[1;33m    print(house=[room2, room1, room3])\u001b[0m\n\u001b[1;37m    ^\u001b[0m\n\u001b[1;31mIndentationError\u001b[0m\u001b[1;31m:\u001b[0m unexpected indent\n"
     ]
    }
   ],
   "source": [
    "# 6) Find \"santa\" in the variable \"house\" \n",
    "\n",
    "\n",
    " #room1=['gabe','greg']\n",
    " #room2=['michelle','santa','stacey']\n",
    " #room3=['adam','sam', 'melissa']\n",
    " #house=[room2, room1, room3]\n"
   ]
  },
  {
   "cell_type": "code",
   "execution_count": 33,
   "metadata": {},
   "outputs": [
    {
     "data": {
      "text/plain": [
       "'santa'"
      ]
     },
     "execution_count": 33,
     "metadata": {},
     "output_type": "execute_result"
    }
   ],
   "source": [
    "\n",
    "\n",
    "room1=['gabe','greg']\n",
    "room2=['michelle','santa','stacey']\n",
    "room3=['adam','sam', 'melissa']\n",
    "\n",
    "house=[room2, room1, room3]\n",
    "\n",
    "house[0][1]\n",
    "\n",
    "\n"
   ]
  },
  {
   "cell_type": "code",
   "execution_count": null,
   "metadata": {},
   "outputs": [],
   "source": [
    "# 7) A dictionary is the best way to store a sequence of events like a recipe.\n",
    "\n",
    "# True or false? \n",
    " \n",
    "#false"
   ]
  },
  {
   "cell_type": "code",
   "execution_count": 5,
   "metadata": {},
   "outputs": [
    {
     "ename": "SyntaxError",
     "evalue": "unexpected EOF while parsing (3836558540.py, line 5)",
     "output_type": "error",
     "traceback": [
      "\u001b[1;36m  File \u001b[1;32m\"C:\\Users\\Chase\\AppData\\Local\\Temp\\ipykernel_11360\\3836558540.py\"\u001b[1;36m, line \u001b[1;32m5\u001b[0m\n\u001b[1;33m    #          'christina', 'tina', 'mary', 'tina', 'bob', 'michelle','jennifer']\u001b[0m\n\u001b[1;37m                                                                                 ^\u001b[0m\n\u001b[1;31mSyntaxError\u001b[0m\u001b[1;31m:\u001b[0m unexpected EOF while parsing\n"
     ]
    }
   ],
   "source": [
    "# 8) Remove all dupes \n",
    "# names = ['mary', 'bob', 'jessica', 'pierre', 'bob', 'jennifer', 'chris', \n",
    "#          'christina', 'tina', 'mary', 'tina', 'bob', 'michelle','jennifer']\n",
    "#my_list = ['mary', 'bob', 'jessica', 'pierre', 'bob', 'jennifer', 'chris', \n",
    "#          'christina', 'tina', 'mary', 'tina', 'bob', 'michelle','jennifer']\n"
   ]
  },
  {
   "cell_type": "code",
   "execution_count": 54,
   "metadata": {},
   "outputs": [
    {
     "name": "stdout",
     "output_type": "stream",
     "text": [
      "Original List:  ['mary', 'bob', 'jessica', 'pierre', 'bob', 'jennifer', 'chris', 'christina', 'tina', 'mary', 'tina', 'bob', 'michelle', 'jennifer']\n",
      "['michelle', 'christina', 'jessica', 'chris', 'bob', 'pierre', 'tina', 'jennifer', 'mary']\n"
     ]
    }
   ],
   "source": [
    "l = ['mary', 'bob', 'jessica', 'pierre', 'bob', 'jennifer', 'chris', \n",
    "         'christina', 'tina', 'mary', 'tina', 'bob', 'michelle','jennifer']\n",
    "print(\"Original List: \", l)\n",
    "res = [*set(l)]\n",
    "print( res)"
   ]
  },
  {
   "cell_type": "code",
   "execution_count": null,
   "metadata": {},
   "outputs": [],
   "source": [
    "# 9) What's the difference between = and == ? \n",
    "# = is a simple assignment operator (declarative), while == checks if two things are equal (inquiry)\n"
   ]
  },
  {
   "cell_type": "code",
   "execution_count": 78,
   "metadata": {},
   "outputs": [
    {
     "name": "stdout",
     "output_type": "stream",
     "text": [
      "this sentence will form a vase, and this is how\n",
      "      Sentence will form a vase and this is\n",
      "           Will form a vase and this\n",
      "                Form a vase and\n",
      "                     A vase\n",
      "                      vase\n",
      "                     A vase\n",
      "                 Form a vase and\n",
      "            Will form a vase and this\n",
      "      Sentence is still forming a vase,how\n",
      "This sentence has formed a vase, and that is how\n",
      "\n",
      "\n",
      "This sentence will form a wormhole, and you will see\n",
      "      Sentence will form a wormhole and you see\n",
      "           Will form a wormhole\n",
      "                  Form wormhole\n",
      "                     Wormhole\n",
      "                      Form\n",
      "                     Wormhole\n",
      "                 Formed Wormhole\n",
      "      Sentence has formed a wormhole you saw\n",
      "This Sentence has formed a wormhole and you saw\n",
      "\n",
      "\n",
      "this sentence will form afunnel and Ill show you\n",
      "      Sentence will form funnel, Ill show\n",
      "               Will form a funnel\n",
      "                  Form funnel\n",
      "                     Funnel\n",
      "                  Funnel Formed\n",
      "                Funnel was Formed\n",
      "                 Form a vase and\n",
      "      Sentence has formed funnel, you saw\n",
      "This sentence has formed a funnel, you know it\n",
      "\n",
      "\n",
      "These shapes and words are interesting because\n",
      "I can now create all sorts of different forms through them\n",
      "I can now create specific  shapes , words. I have the power to make sort, form, and sent^i^ence\n"
     ]
    },
    {
     "data": {
      "text/plain": [
       "['I', 'create', 'specific', 'words', 'and', 'sent^i^ence']"
      ]
     },
     "execution_count": 78,
     "metadata": {},
     "output_type": "execute_result"
    }
   ],
   "source": [
    "# 10) \n",
    "\n",
    "# Use the concepts you learned in class to construct a poem. Please make sure you write your own poem. There are no guidelines to writing this poem but if you want, feel free to following traditional poem formats like ballads, sonnets, haikus or more.  \n",
    "\n",
    "# See below for example. I expect yours to have a bit more elegant. \n",
    "\n",
    "# Credit Poem: \"Still I Rise\" by Maya Angelou \n",
    "\n",
    "# Reference: https://www.popwebdesign.net/popart_blog/en/2018/01/code-poetry-poems-written-in-programming-languages/ \n",
    "\n",
    "print('this sentence will form a vase, and this is how')\n",
    "print('      Sentence will form a vase and this is')\n",
    "print('           Will form a vase and this')\n",
    "print('                Form a vase and')\n",
    "print('                     A vase')\n",
    "print('                      vase')\n",
    "print('                     A vase')\n",
    "print('                 Form a vase and')\n",
    "print('            Will form a vase and this')\n",
    "print('      Sentence is still forming a vase,how')\n",
    "print ('This sentence has formed a vase, and that is how')\n",
    "print('\\n')\n",
    "\n",
    "print('This sentence will form a wormhole, and you will see')\n",
    "print('      Sentence will form a wormhole and you see')\n",
    "print('           Will form a wormhole')\n",
    "print('                  Form wormhole')\n",
    "print('                     Wormhole')\n",
    "print('                      Form')\n",
    "print('                     Wormhole')\n",
    "print('                 Formed Wormhole')\n",
    "print('      Sentence has formed a wormhole you saw')\n",
    "print ('This Sentence has formed a wormhole and you saw')\n",
    "print('\\n')\n",
    "\n",
    "print('this sentence will form afunnel and Ill show you')\n",
    "print('      Sentence will form funnel, Ill show')\n",
    "print('               Will form a funnel')\n",
    "print('                  Form funnel')\n",
    "print('                     Funnel')\n",
    "print('                  Funnel Formed')\n",
    "print('                Funnel was Formed')\n",
    "print('                 Form a vase and')\n",
    "print('      Sentence has formed funnel, you saw')\n",
    "print ('This sentence has formed a funnel, you know it')\n",
    "print('\\n')\n",
    "\n",
    "\n",
    "\n",
    "\n",
    "print('These shapes and words are interesting because')\n",
    "print ('I can now create all sorts of different forms through them')\n",
    "print ('I can now create specific  shapes , words. I have the power to make sort, form, and sent^i^ence')\n",
    "\n",
    "poem_list = ['I', 'now', 'create', 'specific', 'shapes', 'words', 'I', 'have', 'the', 'power', 'to', 'make', 'sort', 'form', 'and', 'sent^i^ence']\n",
    "poem_list =dict([(1,'I'), (2,'now'), (3,'create'), (4,'specific'), (5,'words'), (6,'have'), (7,'power'), (8,'make'),(9,'and'),(10,'sent^i^ence')])\n",
    "favorites = {'power':['I', 'create','specific', 'words', 'and', 'sent^i^ence']}\n",
    "favorites['power']\n",
    "\n",
    "    \n",
    "\n"
   ]
  },
  {
   "cell_type": "code",
   "execution_count": 43,
   "metadata": {},
   "outputs": [
    {
     "name": "stdout",
     "output_type": "stream",
     "text": [
      "Still I Rise\n",
      "\n",
      "\n",
      "BY MAYA ANGELOU\n",
      "\n",
      "\n",
      "With your bitter, twisted lies,\n",
      "You may trod me in the very dirt\n",
      "But still, like dust, I'll rise.\n",
      "\n",
      "\n",
      "Does my sassiness upset you?\n",
      "Why are you beset with gloom?\n",
      "’Cause I walk like I've got oil wells\n",
      "Pumping in my living room.\n",
      "\n",
      "\n",
      "Just like moons and like suns,\n",
      "With the certainty of tides,\n",
      "Just like hopes springing high,\n",
      "Still I'll rise.\n",
      "\n",
      "\n",
      "Did you want to see me broken?\n",
      "Bowed head and lowered eyes?\n",
      "Shoulders falling down like teardrops,\n",
      "Weakened by my soulful cries?\n",
      "\n",
      "\n",
      "Does my haughtiness offend you?\n",
      "Don't you take it awful hard\n",
      "’Cause I laugh like I've got gold mines\n",
      "Diggin’ in my own backyard.\n",
      "\n",
      "\n",
      "You may shoot me with your words,\n",
      "You may cut me with your eyes,\n",
      "You may kill me with your hatefulness,\n",
      "But still, like air, I’ll rise.\n",
      "\n",
      "\n",
      "Does my sexiness upset you?\n",
      "Does it come as a surprise\n",
      "That I dance like I've got diamonds\n",
      "At the meeting of my thighs?\n",
      "\n",
      "\n",
      "Out of the huts of history’s shame\n",
      "I Rise\n",
      "Up from a past that’s rooted in pain\n",
      "I Rise\n",
      "I'm a black ocean, leaping and wide,\n",
      "Welling and swelling I bear in the tide.\n",
      "\n",
      "\n",
      "Leaving behind nights of terror and fear\n",
      "I Rise\n",
      "Into a daybreak that’s wondrously clear\n",
      "I Rise\n",
      "Bringing the gifts that my ancestors gave,\n",
      "I am the dream and the hope of the slave.\n",
      "I Rise\n",
      "I Rise\n",
      "I Rise.\n"
     ]
    }
   ],
   "source": [
    "a = \"I Rise\"\n",
    "b = \"by maya angelou\"\n",
    "\n",
    "print (f'Still {a}')\n",
    "print('\\n')\n",
    "print(b.upper())\n",
    "print('\\n')\n",
    "print('With your bitter, twisted lies,')\n",
    "print('You may trod me in the very dirt')\n",
    "print(\"But still, like dust, I'll rise.\")\n",
    "print('\\n')\n",
    "print('Does my sassiness upset you?')\n",
    "print('Why are you beset with gloom?')\n",
    "print(\"’Cause I walk like I've got oil wells\")\n",
    "print('Pumping in my living room.')\n",
    "print('\\n')\n",
    "print('Just like moons and like suns,')\n",
    "print('With the certainty of tides,')\n",
    "print('Just like hopes springing high,')\n",
    "print(\"Still I'll rise.\")\n",
    "print('\\n')\n",
    "print('Did you want to see me broken?')\n",
    "print('Bowed head and lowered eyes?')\n",
    "print('Shoulders falling down like teardrops,')\n",
    "print('Weakened by my soulful cries?')\n",
    "print('\\n')\n",
    "print('Does my haughtiness offend you?')\n",
    "print(\"Don't you take it awful hard\")\n",
    "print(\"’Cause I laugh like I've got gold mines\")\n",
    "print('Diggin’ in my own backyard.')\n",
    "print('\\n')\n",
    "print('You may shoot me with your words,')\n",
    "print('You may cut me with your eyes,')\n",
    "print('You may kill me with your hatefulness,')\n",
    "print('But still, like air, I’ll rise.')\n",
    "print('\\n')\n",
    "print('Does my sexiness upset you?')\n",
    "print('Does it come as a surprise')\n",
    "print(\"That I dance like I've got diamonds\")\n",
    "print('At the meeting of my thighs?')\n",
    "print('\\n')\n",
    "print('Out of the huts of history’s shame')\n",
    "print (f'{a}')\n",
    "print('Up from a past that’s rooted in pain')\n",
    "print (f'{a}')\n",
    "print(\"I'm a black ocean, leaping and wide,\")\n",
    "print('Welling and swelling I bear in the tide.')\n",
    "print('\\n')\n",
    "print('Leaving behind nights of terror and fear')\n",
    "print (f'{a}')\n",
    "print('Into a daybreak that’s wondrously clear')\n",
    "print (f'{a}')\n",
    "print('Bringing the gifts that my ancestors gave,')\n",
    "print('I am the dream and the hope of the slave.')\n",
    "print (f'{a}')\n",
    "print (f'{a}')\n",
    "print (f'{a}.')\n"
   ]
  }
 ],
 "metadata": {
  "kernelspec": {
   "display_name": "Python 3 (ipykernel)",
   "language": "python",
   "name": "python3"
  },
  "language_info": {
   "codemirror_mode": {
    "name": "ipython",
    "version": 3
   },
   "file_extension": ".py",
   "mimetype": "text/x-python",
   "name": "python",
   "nbconvert_exporter": "python",
   "pygments_lexer": "ipython3",
   "version": "3.9.13"
  }
 },
 "nbformat": 4,
 "nbformat_minor": 2
}
