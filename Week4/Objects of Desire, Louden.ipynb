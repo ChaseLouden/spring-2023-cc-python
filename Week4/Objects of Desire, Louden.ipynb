{
 "cells": [
  {
   "cell_type": "code",
   "execution_count": null,
   "id": "c3ac5829",
   "metadata": {},
   "outputs": [],
   "source": [
    "# A class with two instance attributes\n",
    "#class Item:\n",
    "\n",
    "    # initializer with instance attributes\n",
    "    #def __init__(self, color, style):\n",
    "       # self.color = color\n",
    "       # self.style = style\n",
    "        \n",
    "        # A class with one class attribute\n",
    "#class Car:\n",
    "\n",
    "    # class attribute\n",
    "   # wheels = 4\n",
    "\n",
    "    # initializer with instance attributes\n",
    "   # def __init__(self, color, style):\n",
    "        #self.color = color\n",
    "       # self.style = style\n",
    "        \n",
    "        #def __init__(self, name, age):\n",
    "       # self.name = name\n",
    "        #self.age = age\n",
    "\n",
    "    # Instance method\n",
    "    #def description(self):\n",
    "        #return f\"{self.name} is {self.age} years old\"\n",
    "\n",
    "    # Another instance method\n",
    "    #def speak(self, sound):\n",
    "       # return f\"{self.name} says {sound}"
   ]
  },
  {
   "cell_type": "code",
   "execution_count": 52,
   "id": "84ad08a5",
   "metadata": {},
   "outputs": [
    {
     "name": "stdout",
     "output_type": "stream",
     "text": [
      "Hello World!\n"
     ]
    }
   ],
   "source": [
    "def sayHello():\n",
    "    print(\"Hello World!\")\n",
    "    \n",
    "sayHello()\n",
    "# Hello World!\n",
    "   \n",
    "        \n",
    "    "
   ]
  },
  {
   "cell_type": "code",
   "execution_count": 64,
   "id": "56f72818",
   "metadata": {
    "scrolled": true
   },
   "outputs": [],
   "source": [
    "class Dog:\n",
    "    #Class Attribute\n",
    "    species= \"Canis Familiaris\"\n",
    "    \n",
    "    def __init__(self,breed,name):\n",
    "        self.breed=breed\n",
    "        self.name=name\n",
    "        \n",
    "    def speak(self):\n",
    "        print(\"Woof, woof\") \n",
    "            \n",
    "            #you have to give it attributes \n",
    "#Baloo = Dog(breed='Shiba',name ='Baloo')\n",
    "Crimson= Dog(breed='doberman',name='Crimson')\n",
    "\n",
    "\n",
    "        \n",
    "\n"
   ]
  },
  {
   "cell_type": "code",
   "execution_count": 59,
   "id": "9e23d2ee",
   "metadata": {},
   "outputs": [
    {
     "data": {
      "text/plain": [
       "'Crimson'"
      ]
     },
     "execution_count": 59,
     "metadata": {},
     "output_type": "execute_result"
    }
   ],
   "source": [
    "Crimson.name"
   ]
  },
  {
   "cell_type": "code",
   "execution_count": 65,
   "id": "b00b9682",
   "metadata": {},
   "outputs": [
    {
     "name": "stdout",
     "output_type": "stream",
     "text": [
      "Woof, woof\n"
     ]
    }
   ],
   "source": [
    "Crimson.speak()"
   ]
  },
  {
   "cell_type": "code",
   "execution_count": 2,
   "id": "8af6fd07",
   "metadata": {},
   "outputs": [
    {
     "ename": "NameError",
     "evalue": "name 'Primer' is not defined",
     "output_type": "error",
     "traceback": [
      "\u001b[1;31m---------------------------------------------------------------------------\u001b[0m",
      "\u001b[1;31mNameError\u001b[0m                                 Traceback (most recent call last)",
      "\u001b[1;32m~\\AppData\\Local\\Temp\\ipykernel_19860\\3866655381.py\u001b[0m in \u001b[0;36m<module>\u001b[1;34m\u001b[0m\n\u001b[1;32m----> 1\u001b[1;33m \u001b[1;32mclass\u001b[0m \u001b[0mMovie\u001b[0m\u001b[1;33m(\u001b[0m\u001b[1;33m)\u001b[0m\u001b[1;33m:\u001b[0m\u001b[1;33m\u001b[0m\u001b[1;33m\u001b[0m\u001b[0m\n\u001b[0m\u001b[0;32m      2\u001b[0m     \u001b[1;32mdef\u001b[0m \u001b[0m__init__\u001b[0m\u001b[1;33m(\u001b[0m\u001b[0mself\u001b[0m\u001b[1;33m,\u001b[0m \u001b[0mtitle\u001b[0m\u001b[1;33m,\u001b[0m \u001b[0mDirector\u001b[0m\u001b[1;33m,\u001b[0m \u001b[0mLength\u001b[0m\u001b[1;33m)\u001b[0m\u001b[1;33m:\u001b[0m\u001b[1;33m\u001b[0m\u001b[1;33m\u001b[0m\u001b[0m\n\u001b[0;32m      3\u001b[0m         \u001b[0mself\u001b[0m\u001b[1;33m.\u001b[0m\u001b[0mtitle\u001b[0m \u001b[1;33m=\u001b[0m \u001b[0mtitle\u001b[0m\u001b[1;33m\u001b[0m\u001b[1;33m\u001b[0m\u001b[0m\n\u001b[0;32m      4\u001b[0m         \u001b[0mself\u001b[0m\u001b[1;33m.\u001b[0m\u001b[0mDirector\u001b[0m \u001b[1;33m=\u001b[0m \u001b[0mDirector\u001b[0m\u001b[1;33m\u001b[0m\u001b[1;33m\u001b[0m\u001b[0m\n\u001b[0;32m      5\u001b[0m         \u001b[0mself\u001b[0m\u001b[1;33m.\u001b[0m\u001b[0mlength\u001b[0m \u001b[1;33m=\u001b[0m \u001b[0mlength\u001b[0m\u001b[1;33m\u001b[0m\u001b[1;33m\u001b[0m\u001b[0m\n",
      "\u001b[1;32m~\\AppData\\Local\\Temp\\ipykernel_19860\\3866655381.py\u001b[0m in \u001b[0;36mMovie\u001b[1;34m()\u001b[0m\n\u001b[0;32m     14\u001b[0m \u001b[1;33m\u001b[0m\u001b[0m\n\u001b[0;32m     15\u001b[0m \u001b[1;33m\u001b[0m\u001b[0m\n\u001b[1;32m---> 16\u001b[1;33m     \u001b[0mfavmovie\u001b[0m\u001b[1;33m=\u001b[0m \u001b[0mPrimer\u001b[0m\u001b[1;33m(\u001b[0m\u001b[1;34m\"Primer\"\u001b[0m\u001b[1;33m,\u001b[0m\u001b[1;34m\"Shane Caruth\"\u001b[0m\u001b[1;33m,\u001b[0m\u001b[1;36m77\u001b[0m\u001b[1;33m)\u001b[0m\u001b[1;33m\u001b[0m\u001b[1;33m\u001b[0m\u001b[0m\n\u001b[0m\u001b[0;32m     17\u001b[0m     \u001b[0mprint\u001b[0m\u001b[1;33m(\u001b[0m\u001b[0mfavmovie\u001b[0m\u001b[1;33m)\u001b[0m\u001b[1;33m\u001b[0m\u001b[1;33m\u001b[0m\u001b[0m\n\u001b[0;32m     18\u001b[0m \u001b[1;33m\u001b[0m\u001b[0m\n",
      "\u001b[1;31mNameError\u001b[0m: name 'Primer' is not defined"
     ]
    }
   ],
   "source": [
    "class Movie():\n",
    "    def __init__(self, title, Director, Length):\n",
    "        self.title = title\n",
    "        self.Director = Director\n",
    "        self.length = length\n",
    "        \n",
    "        def __str__(self):\n",
    "            return f\"{self.title} by {self.Director}, length: {self.length}\"\n",
    "    \n",
    "   \n",
    "    def __len__(self):\n",
    "        return self.length\n",
    "    \n",
    "\n",
    "    \n",
    "    favmovie= Primer(\"Primer\",\"Shane Caruth\",77)\n",
    "    print(favmovie)\n",
    "    \n",
    "    "
   ]
  },
  {
   "cell_type": "code",
   "execution_count": null,
   "id": "08edb261",
   "metadata": {},
   "outputs": [],
   "source": []
  }
 ],
 "metadata": {
  "kernelspec": {
   "display_name": "Python 3 (ipykernel)",
   "language": "python",
   "name": "python3"
  },
  "language_info": {
   "codemirror_mode": {
    "name": "ipython",
    "version": 3
   },
   "file_extension": ".py",
   "mimetype": "text/x-python",
   "name": "python",
   "nbconvert_exporter": "python",
   "pygments_lexer": "ipython3",
   "version": "3.9.13"
  }
 },
 "nbformat": 4,
 "nbformat_minor": 5
}
